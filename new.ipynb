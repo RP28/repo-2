{
 "cells": [
  {
   "cell_type": "code",
   "execution_count": 16,
   "id": "83ce811f",
   "metadata": {},
   "outputs": [
    {
     "name": "stdout",
     "output_type": "stream",
     "text": [
      "[[2. 4. 1. 6. 4.]\n",
      " [3. 1. 8. 5. 3.]\n",
      " [5. 8. 5. 9. 1.]\n",
      " [9. 7. 6. 5. 4.]]\n"
     ]
    }
   ],
   "source": [
    "import numpy as np\n",
    "a = np.array([[2,4,1,6,4],[3,1,8,5,3],[5,8,5,9,1],[9,7,6,5,4]])\n",
    "a = a.astype('float')\n",
    "print(a)"
   ]
  }
 ],
 "metadata": {
  "kernelspec": {
   "display_name": "Python 3",
   "language": "python",
   "name": "python3"
  },
  "language_info": {
   "codemirror_mode": {
    "name": "ipython",
    "version": 3
   },
   "file_extension": ".py",
   "mimetype": "text/x-python",
   "name": "python",
   "nbconvert_exporter": "python",
   "pygments_lexer": "ipython3",
   "version": "3.8.8"
  }
 },
 "nbformat": 4,
 "nbformat_minor": 5
}
